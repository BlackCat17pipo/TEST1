{
  "nbformat": 4,
  "nbformat_minor": 0,
  "metadata": {
    "colab": {
      "provenance": [],
      "include_colab_link": true
    },
    "kernelspec": {
      "name": "python3",
      "display_name": "Python 3"
    },
    "language_info": {
      "name": "python"
    }
  },
  "cells": [
    {
      "cell_type": "markdown",
      "metadata": {
        "id": "view-in-github",
        "colab_type": "text"
      },
      "source": [
        "<a href=\"https://colab.research.google.com/github/BlackCat17pipo/TEST1/blob/main/Ayudantia.ipynb\" target=\"_parent\"><img src=\"https://colab.research.google.com/assets/colab-badge.svg\" alt=\"Open In Colab\"/></a>"
      ]
    },
    {
      "cell_type": "code",
      "source": [
        "pip install numpy pandas matplotlib"
      ],
      "metadata": {
        "colab": {
          "base_uri": "https://localhost:8080/"
        },
        "id": "wLqywUkE3pMq",
        "outputId": "960e45da-2b04-4fef-d78d-6289564a5442"
      },
      "execution_count": null,
      "outputs": [
        {
          "output_type": "stream",
          "name": "stdout",
          "text": [
            "Requirement already satisfied: numpy in /usr/local/lib/python3.11/dist-packages (2.0.2)\n",
            "Requirement already satisfied: pandas in /usr/local/lib/python3.11/dist-packages (2.2.2)\n",
            "Requirement already satisfied: matplotlib in /usr/local/lib/python3.11/dist-packages (3.10.0)\n",
            "Requirement already satisfied: python-dateutil>=2.8.2 in /usr/local/lib/python3.11/dist-packages (from pandas) (2.9.0.post0)\n",
            "Requirement already satisfied: pytz>=2020.1 in /usr/local/lib/python3.11/dist-packages (from pandas) (2025.2)\n",
            "Requirement already satisfied: tzdata>=2022.7 in /usr/local/lib/python3.11/dist-packages (from pandas) (2025.2)\n",
            "Requirement already satisfied: contourpy>=1.0.1 in /usr/local/lib/python3.11/dist-packages (from matplotlib) (1.3.3)\n",
            "Requirement already satisfied: cycler>=0.10 in /usr/local/lib/python3.11/dist-packages (from matplotlib) (0.12.1)\n",
            "Requirement already satisfied: fonttools>=4.22.0 in /usr/local/lib/python3.11/dist-packages (from matplotlib) (4.59.0)\n",
            "Requirement already satisfied: kiwisolver>=1.3.1 in /usr/local/lib/python3.11/dist-packages (from matplotlib) (1.4.9)\n",
            "Requirement already satisfied: packaging>=20.0 in /usr/local/lib/python3.11/dist-packages (from matplotlib) (25.0)\n",
            "Requirement already satisfied: pillow>=8 in /usr/local/lib/python3.11/dist-packages (from matplotlib) (11.3.0)\n",
            "Requirement already satisfied: pyparsing>=2.3.1 in /usr/local/lib/python3.11/dist-packages (from matplotlib) (3.2.3)\n",
            "Requirement already satisfied: six>=1.5 in /usr/local/lib/python3.11/dist-packages (from python-dateutil>=2.8.2->pandas) (1.17.0)\n"
          ]
        }
      ]
    },
    {
      "cell_type": "code",
      "execution_count": null,
      "metadata": {
        "colab": {
          "base_uri": "https://localhost:8080/"
        },
        "id": "mp_QJNd-3l_O",
        "outputId": "63df8119-3b4b-4add-f1c8-20b27a76e778"
      },
      "outputs": [
        {
          "output_type": "stream",
          "name": "stderr",
          "text": [
            "/tmp/ipython-input-571537072.py:53: RuntimeWarning: overflow encountered in square\n",
            "  mse = float(np.mean((y - y_hat) ** 2))\n",
            "/usr/local/lib/python3.11/dist-packages/numpy/_core/_methods.py:127: RuntimeWarning: overflow encountered in reduce\n",
            "  ret = umr_sum(arr, axis, dtype, out, keepdims, where=where)\n",
            "/tmp/ipython-input-571537072.py:58: RuntimeWarning: overflow encountered in matmul\n",
            "  grad = (-2.0 / n) * (Xb.T @ error)   # gradiente MSE respecto [w, b]\n",
            "/tmp/ipython-input-571537072.py:59: RuntimeWarning: invalid value encountered in subtract\n",
            "  w -= eta * grad\n"
          ]
        },
        {
          "output_type": "stream",
          "name": "stdout",
          "text": [
            "Mejor eta por MSE FINAL (@200 épocas): 0.0001\n",
            "Mejor eta por MÍNIMO MSE alcanzado: 0.0001\n",
            "Eta más rápida (ms/época): 1.0\n",
            "\n",
            "Resumen con costos guardado en: ejemploA_eta_sweep_summary.csv\n"
          ]
        }
      ],
      "source": [
        "\"\"\"\n",
        "Barrido de tasas de aprendizaje (eta) con costo computacional\n",
        "- Etas: [1e-4, 1e-3, 1e-2, 5e-2, 1e-1, 2e-1, 5e-1, 1.0]\n",
        "- Pocas épocas (EPOCHS=200) para comparar convergencia\n",
        "- Mide:\n",
        "  * wall_time_s (tiempo total por eta)\n",
        "  * ms_per_epoch (promedio por época)\n",
        "  * flops_epoch_aprox y flops_total_aprox\n",
        "\n",
        "Genera:\n",
        "  * A_eta_sweep_mse_vs_epoch.png\n",
        "  * A_eta_sweep_final_mse_vs_eta.png\n",
        "  * ejemploA_eta_sweep_hist.csv     (historial completo)\n",
        "  * ejemploA_eta_sweep_summary.csv  (resumen con costos)\n",
        "\"\"\"\n",
        "import time\n",
        "import numpy as np\n",
        "import pandas as pd\n",
        "import matplotlib.pyplot as plt\n",
        "\n",
        "# -------------------------\n",
        "# 1) Datos (m2 -> UF)\n",
        "# -------------------------\n",
        "X = np.array([30, 45, 60, 70, 90, 110], dtype=float).reshape(-1, 1)\n",
        "y = np.array([12.0, 16.0, 20.0, 23.0, 28.0, 34.0], dtype=float)\n",
        "Xb = np.c_[X, np.ones(len(X))]           # n x d_b  (d_b=2: [w, b])\n",
        "\n",
        "n = Xb.shape[0]\n",
        "d_b = Xb.shape[1]\n",
        "\n",
        "# -------------------------\n",
        "# 2) Hiperparámetros\n",
        "# -------------------------\n",
        "ETAS = [1e-4, 1e-3, 1e-2, 5e-2, 1e-1, 2e-1, 5e-1, 1.0]\n",
        "EPOCHS = 200  # pocas épocas\n",
        "\n",
        "# Estimación muy simple de FLOPs por época (orden de magnitud):\n",
        "# - y_hat = Xb @ w                      ~ 2*n*d_b\n",
        "# - error = y - y_hat                   ~ n\n",
        "# - grad = (-2/n) * (Xb.T @ error)      ~ 2*n*d_b + d_b  (escala)\n",
        "# - w -= eta * grad                     ~ 2*d_b\n",
        "# Total aprox por época: 4*n*d_b + n + 3*d_b\n",
        "FLOPS_EPOCH_APROX = 4*n*d_b + n + 3*d_b\n",
        "\n",
        "def run_gd(eta: float, epochs: int):\n",
        "    \"\"\"Entrena por GD; retorna historias de MSE, w, b y tiempo total.\"\"\"\n",
        "    w = np.zeros(d_b)  # [w, b]\n",
        "    mse_hist, w_hist, b_hist = [], [], []\n",
        "\n",
        "    t0 = time.perf_counter()\n",
        "    for ep in range(epochs + 1):\n",
        "        y_hat = Xb @ w\n",
        "        mse = float(np.mean((y - y_hat) ** 2))\n",
        "        mse_hist.append(mse); w_hist.append(float(w[0])); b_hist.append(float(w[1]))\n",
        "\n",
        "        if ep < epochs:\n",
        "            error = y - y_hat\n",
        "            grad = (-2.0 / n) * (Xb.T @ error)   # gradiente MSE respecto [w, b]\n",
        "            w -= eta * grad\n",
        "    t1 = time.perf_counter()\n",
        "\n",
        "    wall_time_s = t1 - t0\n",
        "    return (np.array(mse_hist), np.array(w_hist), np.array(b_hist), wall_time_s)\n",
        "\n",
        "# -------------------------\n",
        "# 3) Barrido y recopilación\n",
        "# -------------------------\n",
        "history_rows, summ_rows = [], []\n",
        "for eta in ETAS:\n",
        "    mse_hist, w_hist, b_hist, wall_time_s = run_gd(eta, EPOCHS)\n",
        "\n",
        "    # Historial completo\n",
        "    for ep in range(EPOCHS + 1):\n",
        "        history_rows.append({\n",
        "            \"eta\": eta,\n",
        "            \"epoch\": ep,\n",
        "            \"w\": float(w_hist[ep]),\n",
        "            \"b\": float(b_hist[ep]),\n",
        "            \"mse\": float(mse_hist[ep]),\n",
        "        })\n",
        "\n",
        "    # Resumen por eta\n",
        "    best_ep = int(np.argmin(mse_hist))\n",
        "    best_mse = float(np.min(mse_hist))\n",
        "    final_mse = float(mse_hist[-1])\n",
        "\n",
        "    flops_total_aprox = FLOPS_EPOCH_APROX * (EPOCHS)  # sin contar la época 0 (solo forward)\n",
        "    ms_per_epoch = (wall_time_s / EPOCHS) * 1000.0\n",
        "\n",
        "    summ_rows.append({\n",
        "        \"eta\": eta,\n",
        "        \"best_epoch\": best_ep,\n",
        "        \"best_mse\": best_mse,\n",
        "        \"final_mse\": final_mse,\n",
        "        \"wall_time_s\": wall_time_s,\n",
        "        \"ms_per_epoch\": ms_per_epoch,\n",
        "        \"flops_epoch_aprox\": FLOPS_EPOCH_APROX,\n",
        "        \"flops_total_aprox\": flops_total_aprox\n",
        "    })\n",
        "\n",
        "history_df = pd.DataFrame(history_rows)\n",
        "summary_df = pd.DataFrame(summ_rows).sort_values(by=\"final_mse\")\n",
        "\n",
        "# -------------------------\n",
        "# 4) Guardar CSVs\n",
        "# -------------------------\n",
        "history_df.to_csv(\"ejemploA_eta_sweep_hist.csv\", index=False)\n",
        "summary_df.to_csv(\"ejemploA_eta_sweep_summary.csv\", index=False)\n",
        "\n",
        "# -------------------------\n",
        "# 5) Gráfico: MSE vs época (todas las etas)\n",
        "# -------------------------\n",
        "plt.figure()\n",
        "for eta in ETAS:\n",
        "    sub = history_df[history_df[\"eta\"] == eta]\n",
        "    plt.plot(sub[\"epoch\"].values, sub[\"mse\"].values, label=f\"eta={eta}\")\n",
        "plt.xlabel(\"Época\")\n",
        "plt.ylabel(\"MSE\")\n",
        "plt.title(\"Barrido de tasa de aprendizaje (MSE vs época)\")\n",
        "plt.legend()\n",
        "plt.savefig(\"A_eta_sweep_mse_vs_epoch.png\", dpi=160, bbox_inches=\"tight\")\n",
        "plt.close()\n",
        "\n",
        "# -------------------------\n",
        "# 6) Gráfico: MSE final vs eta (log-x)\n",
        "# -------------------------\n",
        "plt.figure()\n",
        "plt.plot(summary_df[\"eta\"].values, summary_df[\"final_mse\"].values, marker=\"o\")\n",
        "plt.xscale(\"log\")\n",
        "plt.xlabel(\"eta (escala log)\")\n",
        "plt.ylabel(\"MSE final\")\n",
        "plt.title(\"MSE final vs tasa de aprendizaje\")\n",
        "plt.savefig(\"A_eta_sweep_final_mse_vs_eta.png\", dpi=160, bbox_inches=\"tight\")\n",
        "plt.close()\n",
        "\n",
        "# -------------------------\n",
        "# 7) Sugerencias según criterio y costo\n",
        "# -------------------------\n",
        "best_by_final = summary_df.iloc[0][\"eta\"]\n",
        "best_by_min = summary_df.loc[summary_df[\"best_mse\"].idxmin(), \"eta\"]\n",
        "fastest_eta = summary_df.sort_values(by=\"ms_per_epoch\").iloc[0][\"eta\"]\n",
        "\n",
        "print(f\"Mejor eta por MSE FINAL (@{EPOCHS} épocas): {best_by_final}\")\n",
        "print(f\"Mejor eta por MÍNIMO MSE alcanzado: {best_by_min}\")\n",
        "print(f\"Eta más rápida (ms/época): {fastest_eta}\")\n",
        "print(\"\\nResumen con costos guardado en: ejemploA_eta_sweep_summary.csv\")\n",
        "\n"
      ]
    }
  ]
}